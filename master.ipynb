{
 "cells": [
  {
   "cell_type": "code",
   "execution_count": 3,
   "metadata": {},
   "outputs": [
    {
     "name": "stdout",
     "output_type": "stream",
     "text": [
      "Sender: Running\n",
      "Receiver: Running\n",
      "waiting\n",
      "waiting\n",
      ">receiver got 0.6478269628103048\n",
      "waiting\n",
      "waiting\n",
      ">receiver got 0.3639305882424171\n",
      "waiting\n",
      "waiting\n",
      "Sender: Done\n",
      ">receiver got 0.1279582313905686\n",
      "waiting\n",
      ">receiver got None\n",
      "Receiver: Done\n"
     ]
    }
   ],
   "source": [
    "from time import sleep\n",
    "from random import random\n",
    "from multiprocessing import Process\n",
    "from multiprocessing import Pipe\n",
    " \n",
    "# generate work\n",
    "def sender(connection):\n",
    "    print('Sender: Running', flush=True)\n",
    "    # generate work\n",
    "    for i in range(3):\n",
    "        # generate a value\n",
    "        value = random()\n",
    "        # block\n",
    "        sleep(2)\n",
    "        # send data\n",
    "        connection.send(value)\n",
    "    # all done\n",
    "    connection.send(None)\n",
    "    print('Sender: Done', flush=True)\n",
    " \n",
    "# consume work\n",
    "def receiver(connection):\n",
    "    print('Receiver: Running', flush=True)\n",
    "    # consume work\n",
    "    while True:\n",
    "        # get a unit of work\n",
    "        if connection.poll():\n",
    "            item = connection.recv()\n",
    "            # report\n",
    "            print(f'>receiver got {item}', flush=True)\n",
    "            if item is None:\n",
    "                break\n",
    "        # check for stop\n",
    "        print('waiting')\n",
    "        sleep(1)\n",
    "    # all done\n",
    "    print('Receiver: Done', flush=True)\n",
    " \n",
    "# create the pipe\n",
    "conn1, conn2 = Pipe()\n",
    "# start the sender\n",
    "sender_process = Process(target=sender, args=(conn2,))\n",
    "sender_process.start()\n",
    "# start the receiver\n",
    "receiver_process = Process(target=receiver, args=(conn1,))\n",
    "receiver_process.start()\n",
    "# wait for all processes to finish\n",
    "sender_process.join()\n",
    "receiver_process.join()"
   ]
  },
  {
   "cell_type": "code",
   "execution_count": null,
   "metadata": {},
   "outputs": [],
   "source": []
  }
 ],
 "metadata": {
  "kernelspec": {
   "display_name": "crux",
   "language": "python",
   "name": "python3"
  },
  "language_info": {
   "codemirror_mode": {
    "name": "ipython",
    "version": 3
   },
   "file_extension": ".py",
   "mimetype": "text/x-python",
   "name": "python",
   "nbconvert_exporter": "python",
   "pygments_lexer": "ipython3",
   "version": "3.11.2"
  },
  "orig_nbformat": 4
 },
 "nbformat": 4,
 "nbformat_minor": 2
}
